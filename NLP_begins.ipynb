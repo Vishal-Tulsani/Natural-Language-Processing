{
 "cells": [
  {
   "cell_type": "code",
   "execution_count": 5,
   "metadata": {},
   "outputs": [],
   "source": [
    "import spacy\n",
    "import time, nltk"
   ]
  },
  {
   "cell_type": "code",
   "execution_count": 7,
   "metadata": {},
   "outputs": [],
   "source": [
    "nlp=spacy.load('en') # this will use nltk data folder"
   ]
  },
  {
   "cell_type": "code",
   "execution_count": 8,
   "metadata": {},
   "outputs": [],
   "source": [
    "data=\"hello I am feeling good thank you\""
   ]
  },
  {
   "cell_type": "code",
   "execution_count": 9,
   "metadata": {},
   "outputs": [],
   "source": [
    "p_data=nlp(data)"
   ]
  },
  {
   "cell_type": "code",
   "execution_count": 10,
   "metadata": {},
   "outputs": [
    {
     "name": "stdout",
     "output_type": "stream",
     "text": [
      "hello lemma --- hello\n",
      "pos of word is :  INTJ\n",
      "I lemma --- -PRON-\n",
      "pos of word is :  PRON\n",
      "am lemma --- be\n",
      "pos of word is :  VERB\n",
      "feeling lemma --- feel\n",
      "pos of word is :  VERB\n",
      "good lemma --- good\n",
      "pos of word is :  ADJ\n",
      "thank lemma --- thank\n",
      "pos of word is :  VERB\n",
      "you lemma --- -PRON-\n",
      "pos of word is :  PRON\n"
     ]
    }
   ],
   "source": [
    "for i in p_data:\n",
    "  print(i,\"lemma --->\", i.lemma_)\n",
    "  time.sleep(2)\n",
    "  print(\"pos of word is : \" , i.pos_)"
   ]
  },
  {
   "cell_type": "code",
   "execution_count": null,
   "metadata": {},
   "outputs": [],
   "source": []
  }
 ],
 "metadata": {
  "kernelspec": {
   "display_name": "Python 3",
   "language": "python",
   "name": "python3"
  },
  "language_info": {
   "codemirror_mode": {
    "name": "ipython",
    "version": 3
   },
   "file_extension": ".py",
   "mimetype": "text/x-python",
   "name": "python",
   "nbconvert_exporter": "python",
   "pygments_lexer": "ipython3",
   "version": "3.6.8"
  }
 },
 "nbformat": 4,
 "nbformat_minor": 2
}
