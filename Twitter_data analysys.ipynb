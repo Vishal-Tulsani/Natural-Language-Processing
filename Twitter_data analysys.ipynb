{
 "cells": [
  {
   "cell_type": "code",
   "execution_count": null,
   "metadata": {},
   "outputs": [],
   "source": [
    "import tweepy\n",
    "from textblob import TextBlob\n",
    "import matplotlib.pyplot as plt\n",
    "c_key=\"O3fJopvI3mSzIdvu0k0if47ja\"\n",
    "c_sec=\"QOWPdS2g2Tn6ZeUyngcQQ4IShLbtT7hzwCKvFLiXvBAhDXiC0W\"\n",
    "a_key=\"276375321-tzpzWHPe80bWwKZet1hV2hzNBV7Jei8FibapeVp9\"\n",
    "a_sec=\"9RMlzxTmpcML4QtK4UgV3IkYdNr44iRnUjNFnJu6SgEkg\"\n",
    "#using cons key anc sec token to connect\n",
    "auth=tweepy.OAuthHandler(c_key,c_sec)\n",
    "#using this auth with acess token and secret key\n",
    "auth.set_access_token(a_key,a_sec)\n",
    "#connect API\n",
    "api=tweepy.API(auth)"
   ]
  },
  {
   "cell_type": "code",
   "execution_count": null,
   "metadata": {},
   "outputs": [],
   "source": [
    "# search the topic\n",
    "tweets=api.search('virat',count=10)\n",
    "pos=0\n",
    "neu=0\n",
    "neg=0"
   ]
  },
  {
   "cell_type": "code",
   "execution_count": null,
   "metadata": {},
   "outputs": [],
   "source": [
    "for tweet in tweets:\n",
    "    print(tweet.text)\n",
    "    analysis=TextBlob(tweet.text)\n",
    "    print(analysis.sentiment)\n",
    "    if analysis.sentiment.polarity >0:\n",
    "      print('positive')\n",
    "      pos=pos+1\n",
    "    elif analysis.sentiment.polarity ==0:\n",
    "      print('neutral')\n",
    "      neu=neu+1\n",
    "    else:\n",
    "      print('negative')\n",
    "      neg=neg+1"
   ]
  },
  {
   "cell_type": "code",
   "execution_count": null,
   "metadata": {},
   "outputs": [],
   "source": [
    "plt.xlabel('sentiments')\n",
    "plt.ylabel('count')\n",
    "plt.bar([\"positive\",\"neutral\",\"negative\"],[pos,neu,neg])\n",
    "plt.show()"
   ]
  }
 ],
 "metadata": {
  "kernelspec": {
   "display_name": "Python 3",
   "language": "python",
   "name": "python3"
  },
  "language_info": {
   "codemirror_mode": {
    "name": "ipython",
    "version": 3
   },
   "file_extension": ".py",
   "mimetype": "text/x-python",
   "name": "python",
   "nbconvert_exporter": "python",
   "pygments_lexer": "ipython3",
   "version": "3.6.8"
  }
 },
 "nbformat": 4,
 "nbformat_minor": 2
}
