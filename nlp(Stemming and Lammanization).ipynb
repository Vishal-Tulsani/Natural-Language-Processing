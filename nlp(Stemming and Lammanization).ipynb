{
 "cells": [
  {
   "cell_type": "code",
   "execution_count": 2,
   "metadata": {},
   "outputs": [],
   "source": [
    "from    nltk.tokenize  import  sent_tokenize,word_tokenize\n",
    "from   nltk.stem  import  WordNetLemmatizer   #  for lemmatization \n",
    "from   nltk.stem   import  PorterStemmer   #  for stemming"
   ]
  },
  {
   "cell_type": "code",
   "execution_count": 3,
   "metadata": {},
   "outputs": [
    {
     "data": {
      "text/plain": [
       "['i', 'me', 'my', 'myself', 'we', 'our', 'ours', 'ourselves', 'you', \"you're\"]"
      ]
     },
     "execution_count": 3,
     "metadata": {},
     "output_type": "execute_result"
    }
   ],
   "source": [
    "from   nltk.corpus  import   stopwords\n",
    "\n",
    "stopw=[i for  i  in   stopwords.words('english')]\n",
    "stopw[:10]"
   ]
  },
  {
   "cell_type": "code",
   "execution_count": 4,
   "metadata": {},
   "outputs": [],
   "source": [
    "data=\"i am doing  great sometimes then i use feet to do not know\""
   ]
  },
  {
   "cell_type": "code",
   "execution_count": 5,
   "metadata": {},
   "outputs": [],
   "source": [
    "wtoken=word_tokenize(data)  #  word tokenize  -- on behalf of space  sep words\n"
   ]
  },
  {
   "cell_type": "code",
   "execution_count": 6,
   "metadata": {},
   "outputs": [
    {
     "data": {
      "text/plain": [
       "['great', 'sometimes', 'use', 'feet', 'know']"
      ]
     },
     "execution_count": 6,
     "metadata": {},
     "output_type": "execute_result"
    }
   ],
   "source": [
    "#  removing  stopwords \n",
    "removesw=[word for  word  in   wtoken  if  word not in  stopw]\n",
    "removesw"
   ]
  },
  {
   "cell_type": "code",
   "execution_count": 7,
   "metadata": {},
   "outputs": [
    {
     "name": "stdout",
     "output_type": "stream",
     "text": [
      "stemming of word is   great\n",
      "stemming of word is   sometim\n",
      "stemming of word is   use\n",
      "stemming of word is   feet\n",
      "stemming of word is   know\n"
     ]
    }
   ],
   "source": [
    "#  stemming \n",
    "ps=PorterStemmer()\n",
    "for  i  in  removesw:\n",
    "  print(\"stemming of word is  \",ps.stem(i))"
   ]
  },
  {
   "cell_type": "code",
   "execution_count": 9,
   "metadata": {},
   "outputs": [
    {
     "name": "stdout",
     "output_type": "stream",
     "text": [
      "lemma of  word  is   great\n",
      "lemma of  word  is   sometimes\n",
      "lemma of  word  is   use\n",
      "lemma of  word  is   foot\n",
      "lemma of  word  is   know\n"
     ]
    }
   ],
   "source": [
    "#  now its time for lemmatization \n",
    "lem=WordNetLemmatizer()\n",
    "for  i  in  removesw:\n",
    "    print(\"lemma of  word  is  \",lem.lemmatize(i))"
   ]
  },
  {
   "cell_type": "code",
   "execution_count": null,
   "metadata": {},
   "outputs": [],
   "source": []
  }
 ],
 "metadata": {
  "kernelspec": {
   "display_name": "Python 3",
   "language": "python",
   "name": "python3"
  },
  "language_info": {
   "codemirror_mode": {
    "name": "ipython",
    "version": 3
   },
   "file_extension": ".py",
   "mimetype": "text/x-python",
   "name": "python",
   "nbconvert_exporter": "python",
   "pygments_lexer": "ipython3",
   "version": "3.6.8"
  }
 },
 "nbformat": 4,
 "nbformat_minor": 2
}
